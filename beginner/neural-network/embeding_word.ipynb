{
 "cells": [
  {
   "cell_type": "code",
   "execution_count": 2,
   "metadata": {},
   "outputs": [],
   "source": [
    "# https://machinelearningmastery.com/use-word-embedding-layers-deep-learning-keras/\n",
    "import numpy as np\n",
    "\n",
    "\n",
    "# define documents\n",
    "docs = ['Well done!',\n",
    "\t\t'Good work',\n",
    "\t\t'Great effort',\n",
    "\t\t'nice work',\n",
    "\t\t'Excellent!',\n",
    "\t\t'Weak',\n",
    "\t\t'Poor effort!',\n",
    "\t\t'not good',\n",
    "\t\t'poor work',\n",
    "\t\t'Could have done better.']\n",
    "# define class labels\n",
    "labels = np.array([1,1,1,1,1,0,0,0,0,0])"
   ]
  },
  {
   "cell_type": "code",
   "execution_count": 5,
   "metadata": {},
   "outputs": [
    {
     "name": "stdout",
     "output_type": "stream",
     "text": [
      "[<tf.Tensor 'one_hot_1:0' shape=(18,) dtype=float32>, <tf.Tensor 'one_hot_2:0' shape=(18,) dtype=float32>, <tf.Tensor 'one_hot_3:0' shape=(18,) dtype=float32>, <tf.Tensor 'one_hot_4:0' shape=(18,) dtype=float32>, <tf.Tensor 'one_hot_5:0' shape=(18,) dtype=float32>, <tf.Tensor 'one_hot_6:0' shape=(18,) dtype=float32>, <tf.Tensor 'one_hot_7:0' shape=(18,) dtype=float32>, <tf.Tensor 'one_hot_8:0' shape=(18,) dtype=float32>, <tf.Tensor 'one_hot_9:0' shape=(18,) dtype=float32>, <tf.Tensor 'one_hot_10:0' shape=(18,) dtype=float32>]\n"
     ]
    }
   ],
   "source": [
    "from keras import backend as K\n",
    "\n",
    "all_words = set()\n",
    "for s in docs:\n",
    "    for word in s.split():\n",
    "        all_words.add(word)\n",
    "all_words = list(all_words)\n",
    "\n",
    "# integer encode the documents\n",
    "vocab_size = len(all_words)\n",
    "encoded_docs = [K.one_hot(all_words.index(word), vocab_size) for d in docs]\n",
    "print(encoded_docs)"
   ]
  },
  {
   "cell_type": "code",
   "execution_count": null,
   "metadata": {},
   "outputs": [],
   "source": []
  }
 ],
 "metadata": {
  "kernelspec": {
   "display_name": "Python 3",
   "language": "python",
   "name": "python3"
  },
  "language_info": {
   "codemirror_mode": {
    "name": "ipython",
    "version": 3
   },
   "file_extension": ".py",
   "mimetype": "text/x-python",
   "name": "python",
   "nbconvert_exporter": "python",
   "pygments_lexer": "ipython3",
   "version": "3.6.5"
  }
 },
 "nbformat": 4,
 "nbformat_minor": 2
}
